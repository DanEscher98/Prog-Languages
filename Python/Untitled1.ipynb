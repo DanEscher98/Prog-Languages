{
 "cells": [
  {
   "cell_type": "code",
   "execution_count": 14,
   "id": "58754fa3",
   "metadata": {},
   "outputs": [
    {
     "name": "stdout",
     "output_type": "stream",
     "text": [
      " ;\n",
      " ;\n",
      " ;\n",
      " ;\n",
      " ;\n",
      " ;\n",
      " ;\n",
      " ;\n",
      " ;\n",
      " ."
     ]
    }
   ],
   "source": [
    "bigger(elephant, horse).\n",
    "bigger(horse, donkey).\n",
    "bigger(donkey, dog).\n",
    "bigger(donkey, monkey).\n",
    "?- bigger(donkey, dog)."
   ]
  },
  {
   "cell_type": "code",
   "execution_count": 20,
   "id": "ee983471",
   "metadata": {},
   "outputs": [
    {
     "name": "stdout",
     "output_type": "stream",
     "text": [
      "false."
     ]
    }
   ],
   "source": [
    "bigger(elephant, horse).\n",
    "bigger(horse, donkey).\n",
    "bigger(donkey, dog).\n",
    "bigger(donkey, monkey).\n",
    "?- bigger(monkey, dog)."
   ]
  }
 ],
 "metadata": {
  "kernelspec": {
   "display_name": "SWI-Prolog",
   "language": "",
   "name": "jswipl"
  },
  "language_info": {
   "mimetype": "text/plain",
   "name": "swipl"
  }
 },
 "nbformat": 4,
 "nbformat_minor": 5
}
