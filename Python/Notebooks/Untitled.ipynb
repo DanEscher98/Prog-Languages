{
 "cells": [
  {
   "cell_type": "code",
   "execution_count": 2,
   "metadata": {},
   "outputs": [],
   "source": [
    "import sympy as sym\n",
    "sym.init_printing()\n",
    "import scipy as sp\n",
    "import matplotlib as mpl\n",
    "import matplotlib.pyplot as plt\n",
    "\n",
    "%matplotlib notebook\n",
    "mpl.style.use('classic')\n",
    "\n",
    "plt.rc('figure', figsize = (6, 4.5))\n",
    "plt.rc('axes', labelsize=16, titlesize=14)\n",
    "plt.rc('figure', autolayout=True)"
   ]
  },
  {
   "cell_type": "code",
   "execution_count": 3,
   "metadata": {},
   "outputs": [],
   "source": [
    "x = sym.symbols('x')\n",
    "f, g = sym.symbols('f g', cls=sym.Function)"
   ]
  },
  {
   "cell_type": "code",
   "execution_count": 4,
   "metadata": {},
   "outputs": [
    {
     "data": {
      "image/png": "[encoded data removed]",
      "text/latex": [
       "$\\displaystyle f{\\left(x \\right)}$"
      ],
      "text/plain": [
       "f(x)"
      ]
     },
     "execution_count": 4,
     "metadata": {},
     "output_type": "execute_result"
    }
   ],
   "source": [
    "f(x)"
   ]
  },
  {
   "cell_type": "code",
   "execution_count": 9,
   "metadata": {},
   "outputs": [
    {
     "data": {
      "image/png": "[encoded data removed]",
      "text/latex": [
       "$\\displaystyle f{\\left(x \\right)} - 2 \\frac{d}{d x} f{\\left(x \\right)} + \\frac{d^{2}}{d x^{2}} f{\\left(x \\right)} = \\sin{\\left(x \\right)}$"
      ],
      "text/plain": [
       "                      2               \n",
       "         d           d                \n",
       "f(x) - 2⋅──(f(x)) + ───(f(x)) = sin(x)\n",
       "         dx           2               \n",
       "                    dx                "
      ]
     },
     "execution_count": 9,
     "metadata": {},
     "output_type": "execute_result"
    }
   ],
   "source": [
    "diffeq = sym.Eq((f(x).diff(x, x)) - 2*f(x).diff(x) + f(x), sym.sin(x))\n",
    "diffeq"
   ]
  },
  {
   "cell_type": "code",
   "execution_count": 6,
   "metadata": {},
   "outputs": [
    {
     "data": {
      "image/png": "[encoded data removed]",
      "text/latex": [
       "$\\displaystyle f{\\left(x \\right)} = \\left(C_{1} + C_{2} x\\right) e^{x} + \\frac{\\cos{\\left(x \\right)}}{2}$"
      ],
      "text/plain": [
       "                    x   cos(x)\n",
       "f(x) = (C₁ + C₂⋅x)⋅ℯ  + ──────\n",
       "                          2   "
      ]
     },
     "execution_count": 6,
     "metadata": {},
     "output_type": "execute_result"
    }
   ],
   "source": [
    "soln = sym.dsolve(diffeq, f(x))\n",
    "soln"
   ]
  },
  {
   "cell_type": "code",
   "execution_count": 49,
   "metadata": {},
   "outputs": [
    {
     "name": "stdout",
     "output_type": "stream",
     "text": [
      "x**6 + 6*x**5*y + 15*x**4*y**2 + 20*x**3*y**3 + 15*x**2*y**4 + 6*x*y**5 + y**6\n"
     ]
    },
    {
     "data": {
      "image/png": "[encoded data removed]",
      "text/latex": [
       "$\\displaystyle 67600000$"
      ],
      "text/plain": [
       "67600000"
      ]
     },
     "execution_count": 49,
     "metadata": {},
     "output_type": "execute_result"
    }
   ],
   "source": [
    "import sympy as sym\n",
    "\n",
    "def fac(n):\n",
    "    ans = 1\n",
    "    for i in range(1, n+1):\n",
    "        ans*= i\n",
    "    return ans\n",
    "\n",
    "def bincoef(n, k):\n",
    "    num = fac(n)\n",
    "    den = fac(n-k)*fac(k)\n",
    "    return int(num/den)\n",
    "\n",
    "def multincoef(n, k):\n",
    "    den = 1\n",
    "    if sum(k)==n:\n",
    "        num = fac(n)\n",
    "        for i in range(len(k)):\n",
    "            den *= fac(k[i])\n",
    "        return int(num/den)\n",
    "\n",
    "def tripascal(num):\n",
    "    print(ans)\n",
    "    for n in range(num):\n",
    "        for k in range(n+1):\n",
    "            val = bincoef(n, k)\n",
    "\n",
    "def binompow(x, y, n):\n",
    "    ans = 0\n",
    "    for k in range(n+1):\n",
    "        ans+= bincoef(n, k)*(x**k)*(y**(n-k))\n",
    "    return ans\n",
    "\n",
    "def multincoef(n, k):\n",
    "    den = 1\n",
    "    if sum(k)==n:\n",
    "        num = fac(n)\n",
    "        for i in range(len(k)):\n",
    "            den *= fac(k[i])\n",
    "        return int(num/den)\n",
    "\n",
    "x, y = sym.symbols(\"x y\")\n",
    "print(binompow(x, y, 6))\n",
    "(26**2)*(10**5)\n",
    "a, b, c\n",
    "d, e, f\n",
    "g, h, i\n",
    "\n",
    "j, k, l\n",
    "m, n, ñ\n",
    "o, p, q\n",
    "\n",
    "r, s, t\n",
    "u, v, w\n",
    "x, y, z\n",
    "\n",
    "abc\n",
    "def\n",
    "ghi\n",
    "jkl\n",
    "mno\n",
    "prs\n",
    "tuv"
   ]
  },
  {
   "cell_type": "code",
   "execution_count": 44,
   "metadata": {},
   "outputs": [
    {
     "data": {
      "image/png": "[encoded data removed]",
      "text/latex": [
       "$\\displaystyle 9$"
      ],
      "text/plain": [
       "9"
      ]
     },
     "execution_count": 44,
     "metadata": {},
     "output_type": "execute_result"
    }
   ],
   "source": [
    "v = [2, 3, 4]\n",
    "sum(v)"
   ]
  },
  {
   "cell_type": "code",
   "execution_count": null,
   "metadata": {},
   "outputs": [],
   "source": []
  }
 ],
 "metadata": {
  "kernelspec": {
   "display_name": "Python 3",
   "language": "python",
   "name": "python3"
  },
  "language_info": {
   "codemirror_mode": {
    "name": "ipython",
    "version": 3
   },
   "file_extension": ".py",
   "mimetype": "text/x-python",
   "name": "python",
   "nbconvert_exporter": "python",
   "pygments_lexer": "ipython3",
   "version": "3.7.7"
  }
 },
 "nbformat": 4,
 "nbformat_minor": 4
}
