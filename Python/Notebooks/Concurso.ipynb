{
 "cells": [
  {
   "cell_type": "code",
   "execution_count": 17,
   "metadata": {},
   "outputs": [
    {
     "name": "stdin",
     "output_type": "stream",
     "text": [
      "Password:  aA.sfasd45\n"
     ]
    },
    {
     "name": "stdout",
     "output_type": "stream",
     "text": [
      "Good\n"
     ]
    }
   ],
   "source": [
    "def check(password):\n",
    "    points = 0\n",
    "    if len(password)>= 10:\n",
    "        points += 1\n",
    "    if anyChar(password):\n",
    "        points += 1\n",
    "    if anyUcase(password):\n",
    "        points += 1\n",
    "    if anyLcase(password):\n",
    "        points += 1\n",
    "    if anyNum(password):\n",
    "        points += 1\n",
    "    switch(points)\n",
    "    \n",
    "def anyChar(s):\n",
    "    chars = {'.',',','#','$','%','/',')','&',' ('}\n",
    "    for i in range(len(s)):\n",
    "        if s[i] in chars:\n",
    "            return True\n",
    "    return False\n",
    "\n",
    "def anyUcase(s):\n",
    "    for i in range(len(s)):\n",
    "        v = ord(s[i])\n",
    "        if 64<v and v<91:\n",
    "            return True\n",
    "    return False\n",
    "\n",
    "def anyLcase(s):\n",
    "    for i in range(len(s)):\n",
    "        v = ord(s[i])\n",
    "        if 96<v and v<123:\n",
    "            return True\n",
    "    return False\n",
    "\n",
    "def anyNum(s):\n",
    "    for i in range(len(s)):\n",
    "        v = ord(s[i])\n",
    "        if 47<v and v<58:\n",
    "            if i+1<len(s):\n",
    "                w = ord(s[i+1])\n",
    "                if 47<w and w<58:\n",
    "                    return False\n",
    "            return True\n",
    "    return False\n",
    "\n",
    "def switch(points):\n",
    "    switcher = {\n",
    "        5: \"Strong\",\n",
    "        4: \"Good\",\n",
    "        3: \"Weak\"\n",
    "    }\n",
    "    print (switcher.get(points, \"Rejected\"))\n",
    "\n",
    "check(input(\"Password: \"))"
   ]
  }
 ],
 "metadata": {
  "kernelspec": {
   "display_name": "Python 3",
   "language": "python",
   "name": "python3"
  },
  "language_info": {
   "codemirror_mode": {
    "name": "ipython",
    "version": 3
   },
   "file_extension": ".py",
   "mimetype": "text/x-python",
   "name": "python",
   "nbconvert_exporter": "python",
   "pygments_lexer": "ipython3",
   "version": "3.8.3"
  }
 },
 "nbformat": 4,
 "nbformat_minor": 4
}
