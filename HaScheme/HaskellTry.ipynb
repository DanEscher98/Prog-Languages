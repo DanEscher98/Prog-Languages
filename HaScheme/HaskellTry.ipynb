{
 "cells": [
  {
   "cell_type": "code",
   "execution_count": null,
   "id": "d9e4a58e",
   "metadata": {},
   "outputs": [],
   "source": [
    "2 +3 "
   ]
  },
  {
   "cell_type": "code",
   "execution_count": null,
   "id": "b7d67e52",
   "metadata": {},
   "outputs": [],
   "source": [
    "3- 1"
   ]
  }
 ],
 "metadata": {
  "kernelspec": {
   "display_name": "Haskell",
   "language": "haskell",
   "name": "haskell"
  }
 },
 "nbformat": 4,
 "nbformat_minor": 5
}
