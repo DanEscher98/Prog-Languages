{
 "cells": [
  {
   "cell_type": "code",
   "execution_count": null,
   "id": "62ee3fa8",
   "metadata": {},
   "outputs": [],
   "source": []
  }
 ],
 "metadata": {
  "kernelspec": {
   "display_name": "Haskell",
   "language": "haskell",
   "name": "haskell"
  }
 },
 "nbformat": 4,
 "nbformat_minor": 5
}
