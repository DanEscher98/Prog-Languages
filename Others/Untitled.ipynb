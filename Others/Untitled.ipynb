{
 "cells": [
  {
   "cell_type": "code",
   "execution_count": 20,
   "metadata": {},
   "outputs": [
    {
     "name": "stdout",
     "output_type": "stream",
     "text": [
      "Set a: "
     ]
    },
    {
     "name": "stdin",
     "output_type": "stream",
     "text": [
      "stdin>  0\n"
     ]
    },
    {
     "name": "stdout",
     "output_type": "stream",
     "text": [
      "Set b: "
     ]
    },
    {
     "name": "stdin",
     "output_type": "stream",
     "text": [
      "stdin>  2\n"
     ]
    },
    {
     "name": "stdout",
     "output_type": "stream",
     "text": [
      "I[sin(x)] with\n",
      "a = 0\n",
      "b = 2\n",
      "is equal to: 1.416146837137203\n"
     ]
    }
   ],
   "source": [
    "const acc = 0.0001\n",
    "\n",
    "f(x) = sin(x)\n",
    "\n",
    "function integral(a::Float64, b::Float64)\n",
    "    global acc\n",
    "    n = trunc(Int, (b-a)/acc)\n",
    "    delta_x = (b-a)/n\n",
    "    s = 0\n",
    "    for i in 1:n\n",
    "        x_i = a + (i-0.5)*delta_x\n",
    "        s += f(x_i)*delta_x\n",
    "    end\n",
    "    return s\n",
    "end\n",
    "\n",
    "function main()\n",
    "    print(\"Set a: \")\n",
    "    a = parse(UInt8, readline())\n",
    "    print(\"Set b: \")\n",
    "    b = parse(UInt8, readline())\n",
    "    ans = integral(a, b)\n",
    "    println(\"I[sin(x)] with\")\n",
    "    println(\"a = $a\")\n",
    "    println(\"b = $b\")\n",
    "    \n",
    "    \n",
    "    println(\"is equal to: $ans\")\n",
    "end\n",
    "\n",
    "main()"
   ]
  },
  {
   "cell_type": "code",
   "execution_count": 13,
   "metadata": {},
   "outputs": [
    {
     "name": "stdout",
     "output_type": "stream",
     "text": [
      "Hi\n"
     ]
    },
    {
     "name": "stdin",
     "output_type": "stream",
     "text": [
      "stdin>  2\n",
      "stdin>  3\n"
     ]
    },
    {
     "ename": "MethodError",
     "evalue": "MethodError: no method matching +(::String, ::String)\nClosest candidates are:\n  +(::Any, ::Any, !Matched::Any, !Matched::Any...) at operators.jl:529",
     "output_type": "error",
     "traceback": [
      "MethodError: no method matching +(::String, ::String)\nClosest candidates are:\n  +(::Any, ::Any, !Matched::Any, !Matched::Any...) at operators.jl:529",
      "",
      "Stacktrace:",
      " [1] sum(::String, ::String) at ./In[13]:2",
      " [2] main() at ./In[13]:9",
      " [3] top-level scope at In[13]:12"
     ]
    }
   ],
   "source": [
    "function sum(a, b)\n",
    "    return a+b\n",
    "end\n",
    "\n",
    "function main()\n",
    "    println(\"Hi\")\n",
    "    a = readline()\n",
    "    b = readline()\n",
    "    r = sum(a, b)\n",
    "    print(\"Result: $r\")\n",
    "end\n",
    "\n",
    "main()"
   ]
  },
  {
   "cell_type": "code",
   "execution_count": null,
   "metadata": {},
   "outputs": [],
   "source": [
    "function simulated_unit_circle_area(N)\n",
    "    count_inside = 0\n",
    "    for _ in 1:N\n",
    "        x = rand() * 2 - 1\n",
    "        y = rand() * 2 - 1\n",
    "        if abs2(x) + abs2(y) ≤ 1\n",
    "            count_inside += 1\n",
    "        end\n",
    "    end\n",
    "    count_inside / N * 4\n",
    "end\n",
    "\n",
    "my_π = simulated_unit_circle_area(1000000)"
   ]
  }
 ],
 "metadata": {
  "kernelspec": {
   "display_name": "Julia 1.4.1",
   "language": "julia",
   "name": "julia-1.4"
  },
  "language_info": {
   "file_extension": ".jl",
   "mimetype": "application/julia",
   "name": "julia",
   "version": "1.4.1"
  }
 },
 "nbformat": 4,
 "nbformat_minor": 4
}
