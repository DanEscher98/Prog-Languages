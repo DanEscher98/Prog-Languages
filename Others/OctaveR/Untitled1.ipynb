{
 "cells": [
  {
   "cell_type": "code",
   "execution_count": 5,
   "metadata": {},
   "outputs": [
    {
     "name": "stdout",
     "output_type": "stream",
     "text": [
      "A =\n",
      "\n",
      "   5\n",
      "   2\n",
      "\n",
      "B =\n",
      "\n",
      "   6\n",
      "   8\n",
      "\n",
      "error: cross: must have at least one dimension with 3 elements\n",
      "error: called from\n",
      "    cross at line 70 column 8\n"
     ]
    }
   ],
   "source": [
    "A = [5\n",
    "    2]\n",
    "B = [6\n",
    "    8]\n",
    "\n",
    "cross(A, B)"
   ]
  }
 ],
 "metadata": {
  "kernelspec": {
   "display_name": "Octave",
   "language": "octave",
   "name": "octave"
  },
  "language_info": {
   "file_extension": ".m",
   "help_links": [
    {
     "text": "GNU Octave",
     "url": "https://www.gnu.org/software/octave/support.html"
    },
    {
     "text": "Octave Kernel",
     "url": "https://github.com/Calysto/octave_kernel"
    },
    {
     "text": "MetaKernel Magics",
     "url": "https://metakernel.readthedocs.io/en/latest/source/README.html"
    }
   ],
   "mimetype": "text/x-octave",
   "name": "octave",
   "version": "5.2.0"
  }
 },
 "nbformat": 4,
 "nbformat_minor": 4
}
