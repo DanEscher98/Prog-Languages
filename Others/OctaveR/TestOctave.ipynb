{
 "cells": [
  {
   "cell_type": "code",
   "execution_count": 6,
   "metadata": {},
   "outputs": [
    {
     "name": "stdout",
     "output_type": "stream",
     "text": [
      "parse error:\n",
      "\n",
      "  syntax error\n",
      "\n",
      ">>>   elseif (D < 0) %Si no es asi, lo convierte a complejo\n",
      "           ^\n",
      "\n",
      "error: 'D' undefined near line 1 column 11\n",
      "parse error:\n",
      "\n",
      "  syntax error\n",
      "\n",
      ">>>   end\n",
      "        ^\n",
      "\n",
      "error: 'b' undefined near line 1 column 11\n",
      "error: 'b' undefined near line 1 column 11\n",
      "x1: \n",
      "error: 'x_1' undefined near line 1 column 22\n",
      "x2: \n",
      "error: 'x_2' undefined near line 1 column 22\n",
      "parse error:\n",
      "\n",
      "  syntax error\n",
      "\n",
      ">>> endfunction\n",
      "              ^\n",
      "\n",
      "parse error:\n",
      "\n",
      "  'endif' command matched by 'endwhile'\n",
      "\n",
      ">>> endwhile\n",
      "    ^\n",
      "\n"
     ]
    }
   ],
   "source": [
    "%Daniel Sánchez Domínguez 1707549\n",
    "%Hecho en Octave\n",
    "\n",
    "function raices()\n",
    "  disp(\"Cal. de raíces de una Ec. cuadrática\")\n",
    "  a = input(\"Valor de a: \") %Estas primeras lineas solicitan valores\n",
    "  b = input(\"Valor de b: \")\n",
    "  c = input(\"Valor de c: \")\n",
    "  D = (b*b - 4*a*c);\n",
    "  if (D > 0) %El if verifica que el determinante sea positivo\n",
    "    D = (D^0.5);\n",
    "  end\n",
    "  elseif (D < 0) %Si no es asi, lo convierte a complejo\n",
    "    D = ((D*-1)**0.5)*sqrt(-1);\n",
    "  end\n",
    "  x_1 = (-b+D)/(2*a); %Se calculan ambas soluciones\n",
    "  x_2 = (-b-D)/(2*a)\n",
    "  disp(\"x1: \"), disp(x_1) %Se imprimen\n",
    "  disp(\"x2: \"), disp(x_2)\n",
    "endfunction\n",
    "\n",
    "while(True) %Este ciclo permite probar la funcion varias veces\n",
    "  raices();\n",
    "  user = input(\"Repetir? (1/0)\")\n",
    "  if(user==1)\n",
    "    return %Con return salimos del ciclo y se detiene el programa\n",
    "endwhile"
   ]
  },
  {
   "cell_type": "code",
   "execution_count": 7,
   "metadata": {},
   "outputs": [
    {
     "name": "stdout",
     "output_type": "stream",
     "text": [
      "RzPsi = (sym 3×3 matrix)\n",
      "\n",
      "  ⎡cos(ψ)  -sin(ψ)  0⎤\n",
      "  ⎢                  ⎥\n",
      "  ⎢sin(ψ)  cos(ψ)   0⎥\n",
      "  ⎢                  ⎥\n",
      "  ⎣  0        0     1⎦\n",
      "\n",
      "RyTheta = (sym 3×3 matrix)\n",
      "\n",
      "  ⎡cos(θ)   0  sin(θ)⎤\n",
      "  ⎢                  ⎥\n",
      "  ⎢   0     1    0   ⎥\n",
      "  ⎢                  ⎥\n",
      "  ⎣-sin(θ)  0  cos(θ)⎦\n",
      "\n",
      "RzPhi = (sym 3×3 matrix)\n",
      "\n",
      "  ⎡cos(φ)  -sin(φ)  0⎤\n",
      "  ⎢                  ⎥\n",
      "  ⎢sin(φ)  cos(φ)   0⎥\n",
      "  ⎢                  ⎥\n",
      "  ⎣  0        0     1⎦\n",
      "\n",
      "ans = (sym)\n",
      "\n",
      "                                  2                                             \n",
      "  (-sin(φ)⋅sin(ψ) + cos(φ)⋅cos(ψ))  - (-sin(φ)⋅cos(ψ) - sin(ψ)⋅cos(φ))⋅(sin(φ)⋅c\n",
      "  \n",
      "                        \n",
      "  os(ψ) + sin(ψ)⋅cos(φ))\n",
      "\n"
     ]
    }
   ],
   "source": [
    "pkg load symbolic\n",
    "syms psi phi theta\n",
    "\n",
    "RzPsi = [[cos(psi), -sin(psi), 0]; [sin(psi), cos(psi), 0]; [0,0,1]]\n",
    "RyTheta = [[cos(theta), 0, sin(theta)];[0,1,0];[-sin(theta), 0, cos(theta)]]\n",
    "RzPhi = [[cos(phi), -sin(phi), 0]; [sin(phi), cos(phi), 0]; [0,0,1]]\n",
    "\n",
    "det(RzPhi*RzPsi)"
   ]
  },
  {
   "cell_type": "code",
   "execution_count": null,
   "metadata": {},
   "outputs": [],
   "source": [
    "pkg load symbolic\n",
    "syms lambda\n",
    "A = [1 4;\n",
    "     0 5];\n",
    "I = eye(rows(A));\n",
    "M = A-I*lambda\n",
    "d = det(M)\n",
    "p = expand(d);\n",
    "r = roots(sym2poly(p))\n"
   ]
  },
  {
   "cell_type": "code",
   "execution_count": 15,
   "metadata": {},
   "outputs": [
    {
     "name": "stdout",
     "output_type": "stream",
     "text": [
      "p = (sym) (x + 4)⋅(-x⋅(x - 1) + x + 4)\n",
      "ans = (sym)\n",
      "\n",
      "     3      2            \n",
      "  - x  - 2⋅x  + 12⋅x + 16\n",
      "\n",
      "p is a variable\n",
      "  (x + 4)⋅(-x⋅(x - 1) + x + 4)\n",
      "\n",
      "ans =\n",
      "\n",
      "   0\n",
      "   0\n",
      "   0\n",
      "\n"
     ]
    }
   ],
   "source": [
    "pkg load symbolic\n",
    "syms x\n",
    "p = (-x*(x-1)+(x+4))*(x+4)\n",
    "expand(p)\n",
    "type(\"p\")\n",
    "zeros(3,1)"
   ]
  },
  {
   "cell_type": "code",
   "execution_count": 18,
   "metadata": {},
   "outputs": [
    {
     "name": "stdout",
     "output_type": "stream",
     "text": [
      "A =\n",
      "\n",
      "    1    0    0    0\n",
      "    0    1   -5   10\n",
      "   -1    0    0    0\n",
      "   -1    0    0   -1\n",
      "\n",
      "ans =\n",
      "\n",
      "   1   0   0   0\n",
      "   0   1  -5   0\n",
      "   0   0   0   1\n",
      "   0   0   0   0\n",
      "\n"
     ]
    }
   ],
   "source": [
    "A = [1 0 0 0; 0 1 -5 10; -1 0 0 0; -1 0 0 -1]\n",
    "rref(A)\n",
    "\n",
    "B = zeros(rows(A),1)\n",
    "for i = 1:rows(A)\n",
    "    M = A-I*r(i);\n",
    "    x = linsolve(M, B)\n",
    "endfor"
   ]
  }
 ],
 "metadata": {
  "kernelspec": {
   "display_name": "Octave",
   "language": "octave",
   "name": "octave"
  },
  "language_info": {
   "file_extension": ".m",
   "help_links": [
    {
     "text": "GNU Octave",
     "url": "https://www.gnu.org/software/octave/support.html"
    },
    {
     "text": "Octave Kernel",
     "url": "https://github.com/Calysto/octave_kernel"
    },
    {
     "text": "MetaKernel Magics",
     "url": "https://metakernel.readthedocs.io/en/latest/source/README.html"
    }
   ],
   "mimetype": "text/x-octave",
   "name": "octave",
   "version": "5.2.0"
  }
 },
 "nbformat": 4,
 "nbformat_minor": 4
}
